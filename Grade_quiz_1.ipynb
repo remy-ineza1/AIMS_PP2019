{
  "nbformat": 4,
  "nbformat_minor": 0,
  "metadata": {
    "colab": {
      "name": "Grade quiz 1.ipynb",
      "provenance": [],
      "authorship_tag": "ABX9TyO6s0QaeDFLSfcLrz3UKMym",
      "include_colab_link": true
    },
    "kernelspec": {
      "name": "python3",
      "display_name": "Python 3"
    },
    "language_info": {
      "name": "python"
    }
  },
  "cells": [
    {
      "cell_type": "markdown",
      "metadata": {
        "id": "view-in-github",
        "colab_type": "text"
      },
      "source": [
        "<a href=\"https://colab.research.google.com/github/remy-ineza1/AIMS_PP2019/blob/master/Grade_quiz_1.ipynb\" target=\"_parent\"><img src=\"https://colab.research.google.com/assets/colab-badge.svg\" alt=\"Open In Colab\"/></a>"
      ]
    },
    {
      "cell_type": "markdown",
      "metadata": {
        "id": "7tKnGkpEsulI"
      },
      "source": [
        "## Grade Quiz 1"
      ]
    },
    {
      "cell_type": "code",
      "metadata": {
        "id": "b3xkBZ_psruM"
      },
      "source": [
        "#libraries\n",
        "import numpy as np\n",
        "import pandas as pd"
      ],
      "execution_count": 1,
      "outputs": []
    },
    {
      "cell_type": "code",
      "metadata": {
        "colab": {
          "base_uri": "https://localhost:8080/",
          "height": 297
        },
        "id": "Z6Q6_p9Xs445",
        "outputId": "c7044f89-99e3-4d4e-d0f6-0d441afcd682"
      },
      "source": [
        "#dataset and description\n",
        "url='https://raw.githubusercontent.com/WalePhenomenon/climate_change/master/fuel_ferc1.csv'\n",
        "fuel_data = pd.read_csv(url, error_bad_lines=False)\n",
        "fuel_data.describe()"
      ],
      "execution_count": 3,
      "outputs": [
        {
          "output_type": "execute_result",
          "data": {
            "text/html": [
              "<div>\n",
              "<style scoped>\n",
              "    .dataframe tbody tr th:only-of-type {\n",
              "        vertical-align: middle;\n",
              "    }\n",
              "\n",
              "    .dataframe tbody tr th {\n",
              "        vertical-align: top;\n",
              "    }\n",
              "\n",
              "    .dataframe thead th {\n",
              "        text-align: right;\n",
              "    }\n",
              "</style>\n",
              "<table border=\"1\" class=\"dataframe\">\n",
              "  <thead>\n",
              "    <tr style=\"text-align: right;\">\n",
              "      <th></th>\n",
              "      <th>utility_id_ferc1</th>\n",
              "      <th>report_year</th>\n",
              "      <th>fuel_qty_burned</th>\n",
              "      <th>fuel_mmbtu_per_unit</th>\n",
              "      <th>fuel_cost_per_unit_burned</th>\n",
              "      <th>fuel_cost_per_unit_delivered</th>\n",
              "      <th>fuel_cost_per_mmbtu</th>\n",
              "    </tr>\n",
              "  </thead>\n",
              "  <tbody>\n",
              "    <tr>\n",
              "      <th>count</th>\n",
              "      <td>29523.000000</td>\n",
              "      <td>29523.000000</td>\n",
              "      <td>2.952300e+04</td>\n",
              "      <td>29523.000000</td>\n",
              "      <td>29523.000000</td>\n",
              "      <td>2.952300e+04</td>\n",
              "      <td>29523.000000</td>\n",
              "    </tr>\n",
              "    <tr>\n",
              "      <th>mean</th>\n",
              "      <td>118.601836</td>\n",
              "      <td>2005.806050</td>\n",
              "      <td>2.622119e+06</td>\n",
              "      <td>8.492111</td>\n",
              "      <td>208.649031</td>\n",
              "      <td>9.175704e+02</td>\n",
              "      <td>19.304354</td>\n",
              "    </tr>\n",
              "    <tr>\n",
              "      <th>std</th>\n",
              "      <td>74.178353</td>\n",
              "      <td>7.025483</td>\n",
              "      <td>9.118004e+06</td>\n",
              "      <td>10.600220</td>\n",
              "      <td>2854.490090</td>\n",
              "      <td>6.877593e+04</td>\n",
              "      <td>2091.540939</td>\n",
              "    </tr>\n",
              "    <tr>\n",
              "      <th>min</th>\n",
              "      <td>1.000000</td>\n",
              "      <td>1994.000000</td>\n",
              "      <td>1.000000e+00</td>\n",
              "      <td>0.000001</td>\n",
              "      <td>-276.080000</td>\n",
              "      <td>-8.749370e+02</td>\n",
              "      <td>-41.501000</td>\n",
              "    </tr>\n",
              "    <tr>\n",
              "      <th>25%</th>\n",
              "      <td>55.000000</td>\n",
              "      <td>2000.000000</td>\n",
              "      <td>1.381700e+04</td>\n",
              "      <td>1.024000</td>\n",
              "      <td>5.207000</td>\n",
              "      <td>3.778500e+00</td>\n",
              "      <td>1.940000</td>\n",
              "    </tr>\n",
              "    <tr>\n",
              "      <th>50%</th>\n",
              "      <td>122.000000</td>\n",
              "      <td>2006.000000</td>\n",
              "      <td>2.533220e+05</td>\n",
              "      <td>5.762694</td>\n",
              "      <td>26.000000</td>\n",
              "      <td>1.737100e+01</td>\n",
              "      <td>4.127000</td>\n",
              "    </tr>\n",
              "    <tr>\n",
              "      <th>75%</th>\n",
              "      <td>176.000000</td>\n",
              "      <td>2012.000000</td>\n",
              "      <td>1.424034e+06</td>\n",
              "      <td>17.006000</td>\n",
              "      <td>47.113000</td>\n",
              "      <td>4.213700e+01</td>\n",
              "      <td>7.745000</td>\n",
              "    </tr>\n",
              "    <tr>\n",
              "      <th>max</th>\n",
              "      <td>514.000000</td>\n",
              "      <td>2018.000000</td>\n",
              "      <td>5.558942e+08</td>\n",
              "      <td>341.260000</td>\n",
              "      <td>139358.000000</td>\n",
              "      <td>7.964521e+06</td>\n",
              "      <td>359278.000000</td>\n",
              "    </tr>\n",
              "  </tbody>\n",
              "</table>\n",
              "</div>"
            ],
            "text/plain": [
              "       utility_id_ferc1  ...  fuel_cost_per_mmbtu\n",
              "count      29523.000000  ...         29523.000000\n",
              "mean         118.601836  ...            19.304354\n",
              "std           74.178353  ...          2091.540939\n",
              "min            1.000000  ...           -41.501000\n",
              "25%           55.000000  ...             1.940000\n",
              "50%          122.000000  ...             4.127000\n",
              "75%          176.000000  ...             7.745000\n",
              "max          514.000000  ...        359278.000000\n",
              "\n",
              "[8 rows x 7 columns]"
            ]
          },
          "metadata": {},
          "execution_count": 3
        }
      ]
    },
    {
      "cell_type": "code",
      "metadata": {
        "id": "o1WsQVFntE22"
      },
      "source": [
        "#view the dataset\n",
        "fuel_data"
      ],
      "execution_count": null,
      "outputs": []
    },
    {
      "cell_type": "code",
      "metadata": {
        "colab": {
          "base_uri": "https://localhost:8080/"
        },
        "id": "37ohFNBrtW16",
        "outputId": "be6e9383-9d44-4771-d84a-e920a7f7ddc9"
      },
      "source": [
        "#let's see which has the lowest fuel cost per unit burned\n",
        "fuel=['waste','oil','gas','coal']\n",
        "fuel_cost_per_unit_burned=[]\n",
        "for f in fuel:\n",
        "    df=fuel_data.loc[fuel_data.fuel_type_code_pudl==f]\n",
        "    a= df['fuel_cost_per_unit_burned'].mean()\n",
        "    fuel_cost_per_unit_burned.append(a)\n",
        "fuel_cost_per_unit_burned"
      ],
      "execution_count": 5,
      "outputs": [
        {
          "output_type": "execute_result",
          "data": {
            "text/plain": [
              "[19.518122448979593, 168.87708568948383, 13.659396569737135, 67.42182999882996]"
            ]
          },
          "metadata": {},
          "execution_count": 5
        }
      ]
    },
    {
      "cell_type": "code",
      "metadata": {
        "colab": {
          "base_uri": "https://localhost:8080/"
        },
        "id": "SrWbEkCuupqx",
        "outputId": "087755f6-54ea-4aee-98aa-10c32e882a66"
      },
      "source": [
        "# lets compute standard deviation on fuel_mmbtu_per_unit, 75 percentile is in description above\n",
        "fuel_data['fuel_mmbtu_per_unit'].std()"
      ],
      "execution_count": 6,
      "outputs": [
        {
          "output_type": "execute_result",
          "data": {
            "text/plain": [
              "10.600220307806886"
            ]
          },
          "metadata": {},
          "execution_count": 6
        }
      ]
    },
    {
      "cell_type": "code",
      "metadata": {
        "colab": {
          "base_uri": "https://localhost:8080/"
        },
        "id": "UeUdMptVuqCA",
        "outputId": "d07c08ba-717c-4237-a084-31a9f174d895"
      },
      "source": [
        "#skewness and kurtosis for the fuel quantity burned\n",
        "skew_kurt=[fuel_data['fuel_qty_burned'].skew(),fuel_data['fuel_qty_burned'].kurt()]\n",
        "skew_kurt"
      ],
      "execution_count": 7,
      "outputs": [
        {
          "output_type": "execute_result",
          "data": {
            "text/plain": [
              "[15.851495469109503, 651.3694501337732]"
            ]
          },
          "metadata": {},
          "execution_count": 7
        }
      ]
    },
    {
      "cell_type": "code",
      "metadata": {
        "colab": {
          "base_uri": "https://localhost:8080/"
        },
        "id": "4cHCvCbiuqKE",
        "outputId": "2c95f30a-28ff-48b1-d85e-a578e62d6528"
      },
      "source": [
        "#Which feature has missing values and what is the total number of missing value and percentage of the missing rows as a factor of the total number of rows in three decimal places?\n",
        "fuel_data.isnull().sum()"
      ],
      "execution_count": 8,
      "outputs": [
        {
          "output_type": "execute_result",
          "data": {
            "text/plain": [
              "record_id                         0\n",
              "utility_id_ferc1                  0\n",
              "report_year                       0\n",
              "plant_name_ferc1                  0\n",
              "fuel_type_code_pudl               0\n",
              "fuel_unit                       180\n",
              "fuel_qty_burned                   0\n",
              "fuel_mmbtu_per_unit               0\n",
              "fuel_cost_per_unit_burned         0\n",
              "fuel_cost_per_unit_delivered      0\n",
              "fuel_cost_per_mmbtu               0\n",
              "dtype: int64"
            ]
          },
          "metadata": {},
          "execution_count": 8
        }
      ]
    },
    {
      "cell_type": "code",
      "metadata": {
        "colab": {
          "base_uri": "https://localhost:8080/"
        },
        "id": "T26dWzVswMRb",
        "outputId": "d83b5d72-cd67-47b3-d0c6-7365d80d2a93"
      },
      "source": [
        "(180/fuel_data.shape[0])*100"
      ],
      "execution_count": 10,
      "outputs": [
        {
          "output_type": "execute_result",
          "data": {
            "text/plain": [
              "0.609694136774718"
            ]
          },
          "metadata": {},
          "execution_count": 10
        }
      ]
    },
    {
      "cell_type": "code",
      "metadata": {
        "colab": {
          "base_uri": "https://localhost:8080/"
        },
        "id": "FqbduAHwvkYx",
        "outputId": "01b85952-e53e-421c-9a09-9aa0bf726ede"
      },
      "source": [
        "#The feature with missing values falls under what category? What missing value imputation technique would you use?\n",
        "#let's first see the type of this data\n",
        "fuel_data['fuel_unit']"
      ],
      "execution_count": 11,
      "outputs": [
        {
          "output_type": "execute_result",
          "data": {
            "text/plain": [
              "0        ton\n",
              "1        ton\n",
              "2        ton\n",
              "3        ton\n",
              "4        mcf\n",
              "        ... \n",
              "29518    mcf\n",
              "29519    mcf\n",
              "29520    mcf\n",
              "29521    ton\n",
              "29522    mcf\n",
              "Name: fuel_unit, Length: 29523, dtype: object"
            ]
          },
          "metadata": {},
          "execution_count": 11
        }
      ]
    },
    {
      "cell_type": "markdown",
      "metadata": {
        "id": "QE5XtsKTwp3T"
      },
      "source": [
        "it is categorical"
      ]
    },
    {
      "cell_type": "code",
      "metadata": {
        "colab": {
          "base_uri": "https://localhost:8080/",
          "height": 286
        },
        "id": "1G_FJqx0vkb5",
        "outputId": "f331ffd4-b314-4a56-a8e1-da55a120aa34"
      },
      "source": [
        "#Which of the features has the second and third lowest correlation with the Fuel Cost Per Unit Burned?\n",
        "fuel_data.corr()"
      ],
      "execution_count": 12,
      "outputs": [
        {
          "output_type": "execute_result",
          "data": {
            "text/html": [
              "<div>\n",
              "<style scoped>\n",
              "    .dataframe tbody tr th:only-of-type {\n",
              "        vertical-align: middle;\n",
              "    }\n",
              "\n",
              "    .dataframe tbody tr th {\n",
              "        vertical-align: top;\n",
              "    }\n",
              "\n",
              "    .dataframe thead th {\n",
              "        text-align: right;\n",
              "    }\n",
              "</style>\n",
              "<table border=\"1\" class=\"dataframe\">\n",
              "  <thead>\n",
              "    <tr style=\"text-align: right;\">\n",
              "      <th></th>\n",
              "      <th>utility_id_ferc1</th>\n",
              "      <th>report_year</th>\n",
              "      <th>fuel_qty_burned</th>\n",
              "      <th>fuel_mmbtu_per_unit</th>\n",
              "      <th>fuel_cost_per_unit_burned</th>\n",
              "      <th>fuel_cost_per_unit_delivered</th>\n",
              "      <th>fuel_cost_per_mmbtu</th>\n",
              "    </tr>\n",
              "  </thead>\n",
              "  <tbody>\n",
              "    <tr>\n",
              "      <th>utility_id_ferc1</th>\n",
              "      <td>1.000000</td>\n",
              "      <td>0.093323</td>\n",
              "      <td>-0.057447</td>\n",
              "      <td>-0.066946</td>\n",
              "      <td>-0.037863</td>\n",
              "      <td>-0.016414</td>\n",
              "      <td>0.006122</td>\n",
              "    </tr>\n",
              "    <tr>\n",
              "      <th>report_year</th>\n",
              "      <td>0.093323</td>\n",
              "      <td>1.000000</td>\n",
              "      <td>0.012952</td>\n",
              "      <td>-0.110853</td>\n",
              "      <td>0.013599</td>\n",
              "      <td>-0.014043</td>\n",
              "      <td>0.010261</td>\n",
              "    </tr>\n",
              "    <tr>\n",
              "      <th>fuel_qty_burned</th>\n",
              "      <td>-0.057447</td>\n",
              "      <td>0.012952</td>\n",
              "      <td>1.000000</td>\n",
              "      <td>-0.080946</td>\n",
              "      <td>-0.018535</td>\n",
              "      <td>-0.003551</td>\n",
              "      <td>-0.001896</td>\n",
              "    </tr>\n",
              "    <tr>\n",
              "      <th>fuel_mmbtu_per_unit</th>\n",
              "      <td>-0.066946</td>\n",
              "      <td>-0.110853</td>\n",
              "      <td>-0.080946</td>\n",
              "      <td>1.000000</td>\n",
              "      <td>-0.010034</td>\n",
              "      <td>-0.009039</td>\n",
              "      <td>-0.005884</td>\n",
              "    </tr>\n",
              "    <tr>\n",
              "      <th>fuel_cost_per_unit_burned</th>\n",
              "      <td>-0.037863</td>\n",
              "      <td>0.013599</td>\n",
              "      <td>-0.018535</td>\n",
              "      <td>-0.010034</td>\n",
              "      <td>1.000000</td>\n",
              "      <td>0.011007</td>\n",
              "      <td>-0.000437</td>\n",
              "    </tr>\n",
              "    <tr>\n",
              "      <th>fuel_cost_per_unit_delivered</th>\n",
              "      <td>-0.016414</td>\n",
              "      <td>-0.014043</td>\n",
              "      <td>-0.003551</td>\n",
              "      <td>-0.009039</td>\n",
              "      <td>0.011007</td>\n",
              "      <td>1.000000</td>\n",
              "      <td>-0.000109</td>\n",
              "    </tr>\n",
              "    <tr>\n",
              "      <th>fuel_cost_per_mmbtu</th>\n",
              "      <td>0.006122</td>\n",
              "      <td>0.010261</td>\n",
              "      <td>-0.001896</td>\n",
              "      <td>-0.005884</td>\n",
              "      <td>-0.000437</td>\n",
              "      <td>-0.000109</td>\n",
              "      <td>1.000000</td>\n",
              "    </tr>\n",
              "  </tbody>\n",
              "</table>\n",
              "</div>"
            ],
            "text/plain": [
              "                              utility_id_ferc1  ...  fuel_cost_per_mmbtu\n",
              "utility_id_ferc1                      1.000000  ...             0.006122\n",
              "report_year                           0.093323  ...             0.010261\n",
              "fuel_qty_burned                      -0.057447  ...            -0.001896\n",
              "fuel_mmbtu_per_unit                  -0.066946  ...            -0.005884\n",
              "fuel_cost_per_unit_burned            -0.037863  ...            -0.000437\n",
              "fuel_cost_per_unit_delivered         -0.016414  ...            -0.000109\n",
              "fuel_cost_per_mmbtu                   0.006122  ...             1.000000\n",
              "\n",
              "[7 rows x 7 columns]"
            ]
          },
          "metadata": {},
          "execution_count": 12
        }
      ]
    },
    {
      "cell_type": "code",
      "metadata": {
        "colab": {
          "base_uri": "https://localhost:8080/"
        },
        "id": "tn0TiRaEvkfB",
        "outputId": "e435fbe5-e45e-45ae-b039-e3e1b3f68027"
      },
      "source": [
        "#For the fuel type coal, what is the percentage change in the fuel cost per unit burned in 1998 compared to 1994?\n",
        "# for 1998\n",
        "coal=fuel_data.loc[fuel_data.fuel_type_code_pudl=='coal']\n",
        "c_1998=coal.loc[coal.report_year==1998]\n",
        "coal_1998=c_1998.fuel_cost_per_unit_burned.values.sum()\n",
        "\n",
        "# for 1994\n",
        "c_1994=coal.loc[coal.report_year==1994]\n",
        "coal_1994=c_1994.fuel_cost_per_unit_burned.values.sum()\n",
        "\n",
        "# percentage\n",
        "per=((coal_1998-coal_1994)/coal_1994)*100\n",
        "per"
      ],
      "execution_count": 14,
      "outputs": [
        {
          "output_type": "execute_result",
          "data": {
            "text/plain": [
              "-20.56765451826053"
            ]
          },
          "metadata": {},
          "execution_count": 14
        }
      ]
    },
    {
      "cell_type": "code",
      "metadata": {
        "colab": {
          "base_uri": "https://localhost:8080/",
          "height": 855
        },
        "id": "UVFeou8ow44M",
        "outputId": "42979ace-45bb-4bc8-9366-dd5823cedc1a"
      },
      "source": [
        "# Which year has the highest average fuel cost per unit delivered?\n",
        "fuel_data.groupby('report_year').mean()"
      ],
      "execution_count": 15,
      "outputs": [
        {
          "output_type": "execute_result",
          "data": {
            "text/html": [
              "<div>\n",
              "<style scoped>\n",
              "    .dataframe tbody tr th:only-of-type {\n",
              "        vertical-align: middle;\n",
              "    }\n",
              "\n",
              "    .dataframe tbody tr th {\n",
              "        vertical-align: top;\n",
              "    }\n",
              "\n",
              "    .dataframe thead th {\n",
              "        text-align: right;\n",
              "    }\n",
              "</style>\n",
              "<table border=\"1\" class=\"dataframe\">\n",
              "  <thead>\n",
              "    <tr style=\"text-align: right;\">\n",
              "      <th></th>\n",
              "      <th>utility_id_ferc1</th>\n",
              "      <th>fuel_qty_burned</th>\n",
              "      <th>fuel_mmbtu_per_unit</th>\n",
              "      <th>fuel_cost_per_unit_burned</th>\n",
              "      <th>fuel_cost_per_unit_delivered</th>\n",
              "      <th>fuel_cost_per_mmbtu</th>\n",
              "    </tr>\n",
              "    <tr>\n",
              "      <th>report_year</th>\n",
              "      <th></th>\n",
              "      <th></th>\n",
              "      <th></th>\n",
              "      <th></th>\n",
              "      <th></th>\n",
              "      <th></th>\n",
              "    </tr>\n",
              "  </thead>\n",
              "  <tbody>\n",
              "    <tr>\n",
              "      <th>1994</th>\n",
              "      <td>106.120648</td>\n",
              "      <td>2.724018e+06</td>\n",
              "      <td>10.638098</td>\n",
              "      <td>213.191996</td>\n",
              "      <td>63.636060</td>\n",
              "      <td>3.086977</td>\n",
              "    </tr>\n",
              "    <tr>\n",
              "      <th>1995</th>\n",
              "      <td>110.139051</td>\n",
              "      <td>3.712067e+06</td>\n",
              "      <td>10.644830</td>\n",
              "      <td>354.422555</td>\n",
              "      <td>32.735269</td>\n",
              "      <td>2.868838</td>\n",
              "    </tr>\n",
              "    <tr>\n",
              "      <th>1996</th>\n",
              "      <td>108.714154</td>\n",
              "      <td>2.544754e+06</td>\n",
              "      <td>10.778041</td>\n",
              "      <td>79.434995</td>\n",
              "      <td>9196.705948</td>\n",
              "      <td>2.695880</td>\n",
              "    </tr>\n",
              "    <tr>\n",
              "      <th>1997</th>\n",
              "      <td>108.366545</td>\n",
              "      <td>2.813503e+06</td>\n",
              "      <td>10.247632</td>\n",
              "      <td>149.482132</td>\n",
              "      <td>11140.197239</td>\n",
              "      <td>3.113486</td>\n",
              "    </tr>\n",
              "    <tr>\n",
              "      <th>1998</th>\n",
              "      <td>109.845528</td>\n",
              "      <td>3.267453e+06</td>\n",
              "      <td>10.704964</td>\n",
              "      <td>126.683519</td>\n",
              "      <td>287.154420</td>\n",
              "      <td>2.775862</td>\n",
              "    </tr>\n",
              "    <tr>\n",
              "      <th>1999</th>\n",
              "      <td>108.222857</td>\n",
              "      <td>3.281281e+06</td>\n",
              "      <td>10.558885</td>\n",
              "      <td>120.053605</td>\n",
              "      <td>25.551627</td>\n",
              "      <td>2.740251</td>\n",
              "    </tr>\n",
              "    <tr>\n",
              "      <th>2000</th>\n",
              "      <td>111.083758</td>\n",
              "      <td>2.472032e+06</td>\n",
              "      <td>9.224475</td>\n",
              "      <td>237.797111</td>\n",
              "      <td>985.362877</td>\n",
              "      <td>4.208403</td>\n",
              "    </tr>\n",
              "    <tr>\n",
              "      <th>2001</th>\n",
              "      <td>113.521386</td>\n",
              "      <td>2.321402e+06</td>\n",
              "      <td>8.371469</td>\n",
              "      <td>133.013010</td>\n",
              "      <td>60.050396</td>\n",
              "      <td>4.612658</td>\n",
              "    </tr>\n",
              "    <tr>\n",
              "      <th>2002</th>\n",
              "      <td>120.354357</td>\n",
              "      <td>2.145645e+06</td>\n",
              "      <td>8.304833</td>\n",
              "      <td>101.179365</td>\n",
              "      <td>47.594361</td>\n",
              "      <td>6.226281</td>\n",
              "    </tr>\n",
              "    <tr>\n",
              "      <th>2003</th>\n",
              "      <td>123.300578</td>\n",
              "      <td>1.888622e+06</td>\n",
              "      <td>8.403746</td>\n",
              "      <td>123.183919</td>\n",
              "      <td>55.663493</td>\n",
              "      <td>7.223933</td>\n",
              "    </tr>\n",
              "    <tr>\n",
              "      <th>2004</th>\n",
              "      <td>121.123322</td>\n",
              "      <td>1.782547e+06</td>\n",
              "      <td>8.332425</td>\n",
              "      <td>154.897398</td>\n",
              "      <td>139.524275</td>\n",
              "      <td>8.441597</td>\n",
              "    </tr>\n",
              "    <tr>\n",
              "      <th>2005</th>\n",
              "      <td>121.028369</td>\n",
              "      <td>1.768876e+06</td>\n",
              "      <td>8.135972</td>\n",
              "      <td>107.111221</td>\n",
              "      <td>41.438184</td>\n",
              "      <td>9.397078</td>\n",
              "    </tr>\n",
              "    <tr>\n",
              "      <th>2006</th>\n",
              "      <td>117.178600</td>\n",
              "      <td>1.957264e+06</td>\n",
              "      <td>8.138090</td>\n",
              "      <td>151.361249</td>\n",
              "      <td>38.657484</td>\n",
              "      <td>10.339898</td>\n",
              "    </tr>\n",
              "    <tr>\n",
              "      <th>2007</th>\n",
              "      <td>116.040348</td>\n",
              "      <td>2.035696e+06</td>\n",
              "      <td>8.027581</td>\n",
              "      <td>202.622082</td>\n",
              "      <td>43.325023</td>\n",
              "      <td>10.735181</td>\n",
              "    </tr>\n",
              "    <tr>\n",
              "      <th>2008</th>\n",
              "      <td>120.785016</td>\n",
              "      <td>2.046455e+06</td>\n",
              "      <td>7.892854</td>\n",
              "      <td>255.954415</td>\n",
              "      <td>58.588197</td>\n",
              "      <td>12.690115</td>\n",
              "    </tr>\n",
              "    <tr>\n",
              "      <th>2009</th>\n",
              "      <td>118.139116</td>\n",
              "      <td>2.154993e+06</td>\n",
              "      <td>7.688192</td>\n",
              "      <td>215.699318</td>\n",
              "      <td>652.694163</td>\n",
              "      <td>10.619376</td>\n",
              "    </tr>\n",
              "    <tr>\n",
              "      <th>2010</th>\n",
              "      <td>117.992863</td>\n",
              "      <td>2.423720e+06</td>\n",
              "      <td>7.575013</td>\n",
              "      <td>262.951203</td>\n",
              "      <td>91.862105</td>\n",
              "      <td>8.551217</td>\n",
              "    </tr>\n",
              "    <tr>\n",
              "      <th>2011</th>\n",
              "      <td>121.069355</td>\n",
              "      <td>2.461332e+06</td>\n",
              "      <td>7.786182</td>\n",
              "      <td>301.754519</td>\n",
              "      <td>59.774667</td>\n",
              "      <td>9.237591</td>\n",
              "    </tr>\n",
              "    <tr>\n",
              "      <th>2012</th>\n",
              "      <td>120.769912</td>\n",
              "      <td>2.747094e+06</td>\n",
              "      <td>7.796063</td>\n",
              "      <td>258.804138</td>\n",
              "      <td>60.994502</td>\n",
              "      <td>8.808904</td>\n",
              "    </tr>\n",
              "    <tr>\n",
              "      <th>2013</th>\n",
              "      <td>122.082569</td>\n",
              "      <td>2.741505e+06</td>\n",
              "      <td>7.797024</td>\n",
              "      <td>255.991023</td>\n",
              "      <td>172.307591</td>\n",
              "      <td>9.308225</td>\n",
              "    </tr>\n",
              "    <tr>\n",
              "      <th>2014</th>\n",
              "      <td>129.263877</td>\n",
              "      <td>2.700008e+06</td>\n",
              "      <td>7.588334</td>\n",
              "      <td>442.359068</td>\n",
              "      <td>192.737183</td>\n",
              "      <td>10.064673</td>\n",
              "    </tr>\n",
              "    <tr>\n",
              "      <th>2015</th>\n",
              "      <td>128.591949</td>\n",
              "      <td>3.340131e+06</td>\n",
              "      <td>7.217820</td>\n",
              "      <td>237.933197</td>\n",
              "      <td>326.535511</td>\n",
              "      <td>8.054361</td>\n",
              "    </tr>\n",
              "    <tr>\n",
              "      <th>2016</th>\n",
              "      <td>133.117021</td>\n",
              "      <td>3.693289e+06</td>\n",
              "      <td>6.846478</td>\n",
              "      <td>247.083959</td>\n",
              "      <td>103.901761</td>\n",
              "      <td>6.915613</td>\n",
              "    </tr>\n",
              "    <tr>\n",
              "      <th>2017</th>\n",
              "      <td>131.126888</td>\n",
              "      <td>3.352850e+06</td>\n",
              "      <td>6.781353</td>\n",
              "      <td>246.281796</td>\n",
              "      <td>46.196861</td>\n",
              "      <td>368.736351</td>\n",
              "    </tr>\n",
              "    <tr>\n",
              "      <th>2018</th>\n",
              "      <td>133.669821</td>\n",
              "      <td>4.178890e+06</td>\n",
              "      <td>6.596546</td>\n",
              "      <td>232.992036</td>\n",
              "      <td>499.269966</td>\n",
              "      <td>7.233643</td>\n",
              "    </tr>\n",
              "  </tbody>\n",
              "</table>\n",
              "</div>"
            ],
            "text/plain": [
              "             utility_id_ferc1  ...  fuel_cost_per_mmbtu\n",
              "report_year                    ...                     \n",
              "1994               106.120648  ...             3.086977\n",
              "1995               110.139051  ...             2.868838\n",
              "1996               108.714154  ...             2.695880\n",
              "1997               108.366545  ...             3.113486\n",
              "1998               109.845528  ...             2.775862\n",
              "1999               108.222857  ...             2.740251\n",
              "2000               111.083758  ...             4.208403\n",
              "2001               113.521386  ...             4.612658\n",
              "2002               120.354357  ...             6.226281\n",
              "2003               123.300578  ...             7.223933\n",
              "2004               121.123322  ...             8.441597\n",
              "2005               121.028369  ...             9.397078\n",
              "2006               117.178600  ...            10.339898\n",
              "2007               116.040348  ...            10.735181\n",
              "2008               120.785016  ...            12.690115\n",
              "2009               118.139116  ...            10.619376\n",
              "2010               117.992863  ...             8.551217\n",
              "2011               121.069355  ...             9.237591\n",
              "2012               120.769912  ...             8.808904\n",
              "2013               122.082569  ...             9.308225\n",
              "2014               129.263877  ...            10.064673\n",
              "2015               128.591949  ...             8.054361\n",
              "2016               133.117021  ...             6.915613\n",
              "2017               131.126888  ...           368.736351\n",
              "2018               133.669821  ...             7.233643\n",
              "\n",
              "[25 rows x 6 columns]"
            ]
          },
          "metadata": {},
          "execution_count": 15
        }
      ]
    },
    {
      "cell_type": "code",
      "metadata": {
        "id": "tfLkCgeXw478"
      },
      "source": [
        ""
      ],
      "execution_count": null,
      "outputs": []
    },
    {
      "cell_type": "code",
      "metadata": {
        "id": "4gVP740Gw4-3"
      },
      "source": [
        ""
      ],
      "execution_count": null,
      "outputs": []
    }
  ]
}